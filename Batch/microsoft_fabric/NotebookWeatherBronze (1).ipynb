{
 "cells": [
  {
   "cell_type": "code",
   "execution_count": null,
   "id": "63cac09a-e892-47a0-97ea-85d3656c55e4",
   "metadata": {
    "jupyter": {
     "outputs_hidden": false,
     "source_hidden": false
    },
    "microsoft": {
     "language": "python",
     "language_group": "synapse_pyspark"
    },
    "nteract": {
     "transient": {
      "deleting": false
     }
    }
   },
   "outputs": [
    {
     "data": {
      "application/vnd.livy.statement-meta+json": {
       "execution_finish_time": "2024-11-02T18:51:20.9131845Z",
       "execution_start_time": "2024-11-02T18:51:19.225945Z",
       "livy_statement_state": "available",
       "normalized_state": "finished",
       "parent_msg_id": "fac21db5-37c3-4ded-8375-8ca836676a4f",
       "queued_time": "2024-11-02T18:51:16.6712745Z",
       "session_id": "813a0444-6350-4090-a5d5-dda5693ab4d5",
       "session_start_time": null,
       "spark_pool": null,
       "state": "finished",
       "statement_id": 12,
       "statement_ids": [
        12
       ]
      },
      "text/plain": [
       "StatementMeta(, 813a0444-6350-4090-a5d5-dda5693ab4d5, 12, Finished, Available, Finished)"
      ]
     },
     "metadata": {},
     "output_type": "display_data"
    },
    {
     "name": "stdout",
     "output_type": "stream",
     "text": [
      "+-------------+--------------------+--------+-----------+-------------------+---------------------+-----------+--------------------+\n",
      "|           IP|                  ID|Variable|Measurement|          Timestamp|EventProcessedUtcTime|PartitionId|EventEnqueuedUtcTime|\n",
      "+-------------+--------------------+--------+-----------+-------------------+---------------------+-----------+--------------------+\n",
      "|198.202.124.3|HPWREN:LP-WXT536:...|      Sx|       5.2M|2024-11-02 15:30:35| 2024-11-02 15:52:...|          1|2024-11-02 15:52:...|\n",
      "|198.202.124.3|HPWREN:LP-WXT536:...|      Ta|       6.1C|2024-11-02 15:30:36| 2024-11-02 15:52:...|          1|2024-11-02 15:52:...|\n",
      "|198.202.124.3|HPWREN:LP-WXT536:...|      Ua|     100.0P|2024-11-02 15:30:36| 2024-11-02 15:52:...|          1|2024-11-02 15:52:...|\n",
      "|198.202.124.3|HPWREN:LP-WXT536:...|      Dm|       170D|2024-11-02 15:30:37| 2024-11-02 15:52:...|          1|2024-11-02 15:52:...|\n",
      "|198.202.124.3|HPWREN:LP-WXT536:...|      Dx|       178D|2024-11-02 15:30:37| 2024-11-02 15:53:...|          1|2024-11-02 15:53:...|\n",
      "|198.202.124.3|HPWREN:LP-WXT536:...|      Sn|       2.2M|2024-11-02 15:30:37| 2024-11-02 15:53:...|          1|2024-11-02 15:53:...|\n",
      "|198.202.124.3|HPWREN:LP-WXT536:...|      Dn|       161D|2024-11-02 15:30:38| 2024-11-02 15:53:...|          1|2024-11-02 15:53:...|\n",
      "|198.202.124.3|HPWREN:LP-WXT536:...|      Dm|       170D|2024-11-02 15:30:38| 2024-11-02 15:53:...|          1|2024-11-02 15:53:...|\n",
      "|198.202.124.3|HPWREN:LP-WXT536:...|      Dx|       178D|2024-11-02 15:30:38| 2024-11-02 15:53:...|          1|2024-11-02 15:53:...|\n",
      "|198.202.124.3|HPWREN:LP-WXT536:...|      Sn|       2.2M|2024-11-02 15:30:38| 2024-11-02 15:53:...|          1|2024-11-02 15:53:...|\n",
      "|198.202.124.3|HPWREN:LP-WXT536:...|      Dn|       160D|2024-11-02 15:31:16| 2024-11-02 16:16:...|          2|2024-11-02 16:16:...|\n",
      "|198.202.124.3|HPWREN:LP-WXT536:...|      Dx|       179D|2024-11-02 15:31:16| 2024-11-02 16:16:...|          2|2024-11-02 16:16:...|\n",
      "|198.202.124.3|HPWREN:LP-WXT536:...|      Sn|       2.9M|2024-11-02 15:31:16| 2024-11-02 16:16:...|          2|2024-11-02 16:16:...|\n",
      "|198.202.124.3|HPWREN:LP-WXT536:...|      Ua|     100.0P|2024-11-02 15:31:16| 2024-11-02 16:17:...|          2|2024-11-02 16:17:...|\n",
      "|198.202.124.3|HPWREN:LP-WXT536:...|      Dn|       160D|2024-11-02 15:31:17| 2024-11-02 16:17:...|          2|2024-11-02 16:17:...|\n",
      "|198.202.124.3|HPWREN:LP-WXT536:...|      Dm|       169D|2024-11-02 15:31:17| 2024-11-02 16:17:...|          2|2024-11-02 16:17:...|\n",
      "|198.202.124.3|HPWREN:LP-WXT536:...|      Sn|       2.9M|2024-11-02 15:31:17| 2024-11-02 16:17:...|          2|2024-11-02 16:17:...|\n",
      "|198.202.124.3|HPWREN:LP-WXT536:...|      Sm|       3.3M|2024-11-02 15:31:17| 2024-11-02 16:17:...|          2|2024-11-02 16:17:...|\n",
      "|198.202.124.3|HPWREN:LP-WXT536:...|      Dn|       160D|2024-11-02 15:31:18| 2024-11-02 16:17:...|          2|2024-11-02 16:17:...|\n",
      "|198.202.124.3|HPWREN:LP-WXT536:...|      Dm|       169D|2024-11-02 15:31:18| 2024-11-02 16:18:...|          2|2024-11-02 16:18:...|\n",
      "+-------------+--------------------+--------+-----------+-------------------+---------------------+-----------+--------------------+\n",
      "only showing top 20 rows\n",
      "\n"
     ]
    }
   ],
   "source": [
    "# Conectar al entorno de Fabric Lakehouse con PySpark\n",
    "from pyspark.sql import SparkSession\n",
    "from pyspark.sql.functions import regexp_replace, col\n",
    "\n",
    "# Crear la sesión de Spark\n",
    "spark = SparkSession.builder.appName(\"Fabric_Lakehouse_Read\").getOrCreate()\n",
    "\n",
    "# Definir la ruta del Lakehouse y la tabla que deseas leer\n",
    "# Aquí, Lakehouse se refiere al nombre del contenedor donde se encuentran los datos\n",
    "lakehouse_path = \"Tables/data_raw\"\n",
    "\n",
    "# Leer la tabla usando el formato Delta o Parquet\n",
    "df = spark.read.format(\"delta\").load(lakehouse_path)\n",
    "\n",
    "# Mostrar los datos leídos\n",
    "df.show()\n",
    "#df.count()\n"
   ]
  },
  {
   "cell_type": "code",
   "execution_count": null,
   "id": "c52bfa48-bf2e-44a9-aa25-5548d46d6167",
   "metadata": {
    "jupyter": {
     "outputs_hidden": false,
     "source_hidden": false
    },
    "microsoft": {
     "language": "python",
     "language_group": "synapse_pyspark"
    },
    "nteract": {
     "transient": {
      "deleting": false
     }
    }
   },
   "outputs": [
    {
     "data": {
      "application/vnd.livy.statement-meta+json": {
       "execution_finish_time": "2024-11-02T18:51:22.5986715Z",
       "execution_start_time": "2024-11-02T18:51:21.6405634Z",
       "livy_statement_state": "available",
       "normalized_state": "finished",
       "parent_msg_id": "4db17457-0885-459e-9d40-7f5a96548597",
       "queued_time": "2024-11-02T18:51:16.7454453Z",
       "session_id": "813a0444-6350-4090-a5d5-dda5693ab4d5",
       "session_start_time": null,
       "spark_pool": null,
       "state": "finished",
       "statement_id": 13,
       "statement_ids": [
        13
       ]
      },
      "text/plain": [
       "StatementMeta(, 813a0444-6350-4090-a5d5-dda5693ab4d5, 13, Finished, Available, Finished)"
      ]
     },
     "metadata": {},
     "output_type": "display_data"
    },
    {
     "name": "stdout",
     "output_type": "stream",
     "text": [
      "+-------------+--------------------+--------+-----------+-------------------+---------------------+-----------+--------------------+\n",
      "|           IP|                  ID|Variable|Measurement|          Timestamp|EventProcessedUtcTime|PartitionId|EventEnqueuedUtcTime|\n",
      "+-------------+--------------------+--------+-----------+-------------------+---------------------+-----------+--------------------+\n",
      "|198.202.124.3|HPWREN:LP-WXT536:...|      Sx|       5.2M|2024-11-02 15:30:35| 2024-11-02 15:52:...|          1|2024-11-02 15:52:...|\n",
      "|198.202.124.3|HPWREN:LP-WXT536:...|      Ta|       6.1C|2024-11-02 15:30:36| 2024-11-02 15:52:...|          1|2024-11-02 15:52:...|\n",
      "|198.202.124.3|HPWREN:LP-WXT536:...|      Ua|     100.0P|2024-11-02 15:30:36| 2024-11-02 15:52:...|          1|2024-11-02 15:52:...|\n",
      "|198.202.124.3|HPWREN:LP-WXT536:...|      Dm|       170D|2024-11-02 15:30:37| 2024-11-02 15:52:...|          1|2024-11-02 15:52:...|\n",
      "|198.202.124.3|HPWREN:LP-WXT536:...|      Dx|       178D|2024-11-02 15:30:37| 2024-11-02 15:53:...|          1|2024-11-02 15:53:...|\n",
      "|198.202.124.3|HPWREN:LP-WXT536:...|      Sn|       2.2M|2024-11-02 15:30:37| 2024-11-02 15:53:...|          1|2024-11-02 15:53:...|\n",
      "|198.202.124.3|HPWREN:LP-WXT536:...|      Dn|       161D|2024-11-02 15:30:38| 2024-11-02 15:53:...|          1|2024-11-02 15:53:...|\n",
      "|198.202.124.3|HPWREN:LP-WXT536:...|      Dm|       170D|2024-11-02 15:30:38| 2024-11-02 15:53:...|          1|2024-11-02 15:53:...|\n",
      "|198.202.124.3|HPWREN:LP-WXT536:...|      Dx|       178D|2024-11-02 15:30:38| 2024-11-02 15:53:...|          1|2024-11-02 15:53:...|\n",
      "|198.202.124.3|HPWREN:LP-WXT536:...|      Sn|       2.2M|2024-11-02 15:30:38| 2024-11-02 15:53:...|          1|2024-11-02 15:53:...|\n",
      "|198.202.124.3|HPWREN:LP-WXT536:...|      Dn|       160D|2024-11-02 15:31:16| 2024-11-02 16:16:...|          2|2024-11-02 16:16:...|\n",
      "|198.202.124.3|HPWREN:LP-WXT536:...|      Dx|       179D|2024-11-02 15:31:16| 2024-11-02 16:16:...|          2|2024-11-02 16:16:...|\n",
      "|198.202.124.3|HPWREN:LP-WXT536:...|      Sn|       2.9M|2024-11-02 15:31:16| 2024-11-02 16:16:...|          2|2024-11-02 16:16:...|\n",
      "|198.202.124.3|HPWREN:LP-WXT536:...|      Ua|     100.0P|2024-11-02 15:31:16| 2024-11-02 16:17:...|          2|2024-11-02 16:17:...|\n",
      "|198.202.124.3|HPWREN:LP-WXT536:...|      Dn|       160D|2024-11-02 15:31:17| 2024-11-02 16:17:...|          2|2024-11-02 16:17:...|\n",
      "|198.202.124.3|HPWREN:LP-WXT536:...|      Dm|       169D|2024-11-02 15:31:17| 2024-11-02 16:17:...|          2|2024-11-02 16:17:...|\n",
      "|198.202.124.3|HPWREN:LP-WXT536:...|      Sn|       2.9M|2024-11-02 15:31:17| 2024-11-02 16:17:...|          2|2024-11-02 16:17:...|\n",
      "|198.202.124.3|HPWREN:LP-WXT536:...|      Sm|       3.3M|2024-11-02 15:31:17| 2024-11-02 16:17:...|          2|2024-11-02 16:17:...|\n",
      "|198.202.124.3|HPWREN:LP-WXT536:...|      Dn|       160D|2024-11-02 15:31:18| 2024-11-02 16:17:...|          2|2024-11-02 16:17:...|\n",
      "|198.202.124.3|HPWREN:LP-WXT536:...|      Dm|       169D|2024-11-02 15:31:18| 2024-11-02 16:18:...|          2|2024-11-02 16:18:...|\n",
      "+-------------+--------------------+--------+-----------+-------------------+---------------------+-----------+--------------------+\n",
      "only showing top 20 rows\n",
      "\n"
     ]
    }
   ],
   "source": [
    "# Estan llegando agunos valores solo numericos en la columna Measurement, el valor correcto es numero y un aletra al final\n",
    "# Filtrar filas donde 'Measurement' no contenga solo números\n",
    "df_filtered = df.filter(\n",
    "    (regexp_replace(col(\"Measurement\"), \"[^0-9]\", \"\") != col(\"Measurement\")) & \n",
    "    (col(\"Measurement\").isNotNull())\n",
    ")\n",
    "\n",
    "# Mostrar las filas filtradas\n",
    "df_filtered.show()"
   ]
  },
  {
   "cell_type": "code",
   "execution_count": null,
   "id": "f925591a-e097-4964-b348-af340cefe97a",
   "metadata": {
    "jupyter": {
     "outputs_hidden": false,
     "source_hidden": false
    },
    "microsoft": {
     "language": "python",
     "language_group": "synapse_pyspark"
    },
    "nteract": {
     "transient": {
      "deleting": false
     }
    }
   },
   "outputs": [
    {
     "data": {
      "application/vnd.livy.statement-meta+json": {
       "execution_finish_time": "2024-11-02T18:51:27.1445367Z",
       "execution_start_time": "2024-11-02T18:51:23.3347654Z",
       "livy_statement_state": "available",
       "normalized_state": "finished",
       "parent_msg_id": "a8939147-b116-4ac3-b5e2-482780801867",
       "queued_time": "2024-11-02T18:51:16.8555633Z",
       "session_id": "813a0444-6350-4090-a5d5-dda5693ab4d5",
       "session_start_time": null,
       "spark_pool": null,
       "state": "finished",
       "statement_id": 14,
       "statement_ids": [
        14
       ]
      },
      "text/plain": [
       "StatementMeta(, 813a0444-6350-4090-a5d5-dda5693ab4d5, 14, Finished, Available, Finished)"
      ]
     },
     "metadata": {},
     "output_type": "display_data"
    },
    {
     "name": "stdout",
     "output_type": "stream",
     "text": [
      "Archivo Parquet guardado en Files/bronce/datos.parquet\n"
     ]
    }
   ],
   "source": [
    "import shutil\n",
    "import os\n",
    "\n",
    "# Iniciar la sesión de Spark\n",
    "spark = SparkSession.builder.appName(\"Guardar en Parquet\").getOrCreate()\n",
    "\n",
    "# Ruta a la carpeta y archivo Parquet en la carpeta 'Files'\n",
    "path = \"Files/bronce\"  # Ruta a la carpeta 'bronce'\n",
    "parquet_file = f\"{path}/datos.parquet\"  # Archivo Parquet\n",
    "\n",
    "# Verificar si la carpeta 'bronce' existe, si no, crearla\n",
    "if not os.path.exists(path):\n",
    "    os.makedirs(path)\n",
    "\n",
    "# Si el archivo parquet ya existe, eliminarlo\n",
    "if os.path.exists(parquet_file):\n",
    "    shutil.rmtree(parquet_file)\n",
    "\n",
    "# Guardar el DataFrame en formato Parquet en la carpeta 'silver'\n",
    "df_filtered.write.mode(\"overwrite\").parquet(parquet_file)\n",
    "\n",
    "print(f\"Archivo Parquet guardado en {parquet_file}\")\n"
   ]
  }
 ],
 "metadata": {
  "dependencies": {
   "lakehouse": {
    "default_lakehouse": "0987027a-b74c-44d6-8f03-624f16aa3fa7",
    "default_lakehouse_name": "BronzeWeather",
    "default_lakehouse_workspace_id": "a87d9f4b-81a6-4f9e-b615-804f2459d267",
    "known_lakehouses": [
     {
      "id": "0987027a-b74c-44d6-8f03-624f16aa3fa7"
     }
    ]
   }
  },
  "kernel_info": {
   "name": "synapse_pyspark"
  },
  "kernelspec": {
   "display_name": "Synapse PySpark",
   "language": "Python",
   "name": "synapse_pyspark"
  },
  "language_info": {
   "name": "python"
  },
  "microsoft": {
   "language": "python",
   "language_group": "synapse_pyspark",
   "ms_spell_check": {
    "ms_spell_check_language": "es"
   }
  },
  "nteract": {
   "version": "nteract-front-end@1.0.0"
  },
  "spark_compute": {
   "compute_id": "/trident/default",
   "session_options": {
    "conf": {
     "spark.synapse.nbs.session.timeout": "1200000"
    }
   }
  },
  "widgets": {}
 },
 "nbformat": 4,
 "nbformat_minor": 5
}
